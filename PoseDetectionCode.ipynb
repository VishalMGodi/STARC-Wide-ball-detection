{
 "cells": [
  {
   "cell_type": "code",
   "execution_count": 2,
   "metadata": {},
   "outputs": [],
   "source": [
    "import cv2\n",
    "import mediapipe as mp\n",
    "import numpy as np\n",
    "\n",
    "mp_drawing = mp.solutions.drawing_utils\n",
    "mp_holistic = mp.solutions.holistic"
   ]
  },
  {
   "cell_type": "code",
   "execution_count": 2,
   "metadata": {},
   "outputs": [],
   "source": [
    "# Video Feed\n",
    "cap = cv2.VideoCapture(0)\n",
    "while cap.isOpened():\n",
    "    ret, frame = cap.read()\n",
    "    cv2.imshow('Mediapipe Feed', frame)\n",
    "    if(cv2.waitKey(10) & 0xFF == ord('q')):\n",
    "        break\n",
    "\n",
    "cap.release()\n",
    "cv2.destroyAllWindows()"
   ]
  },
  {
   "attachments": {},
   "cell_type": "markdown",
   "metadata": {},
   "source": [
    "## Pose Detection"
   ]
  },
  {
   "cell_type": "code",
   "execution_count": 3,
   "metadata": {},
   "outputs": [],
   "source": [
    "cap = cv2.VideoCapture('./Dataset/Alldone/22_Eng_C.mp4')\n",
    "with mp_holistic.Holistic(min_detection_confidence=0.5, min_tracking_confidence=0.5) as holistic:\n",
    "    while cap.isOpened():\n",
    "        ret, frame = cap.read()\n",
    "        if not ret:\n",
    "            break\n",
    "        # Open cv for some reason defaults to BGR(Blue Green Red) so we convert it to RGB for mediapipe\n",
    "        image = cv2.cvtColor(frame, cv2.COLOR_BGR2RGB)\n",
    "        results = holistic.process(image)\n",
    "        image = cv2.cvtColor(image, cv2.COLOR_RGB2BGR)\n",
    "\n",
    "        # FACE\n",
    "        # mp_drawing.draw_landmarks(image, results.face_landmarks, mp.solutions.face_mesh.FACEMESH_CONTOURS)\n",
    "        # RIGHT HAND\n",
    "        mp_drawing.draw_landmarks(image, results.right_hand_landmarks, mp_holistic.HAND_CONNECTIONS)\n",
    "        # LEFT HAND\n",
    "        mp_drawing.draw_landmarks(image, results.left_hand_landmarks, mp_holistic.HAND_CONNECTIONS)\n",
    "        # POSE\n",
    "        mp_drawing.draw_landmarks(image, results.pose_landmarks, mp_holistic.POSE_CONNECTIONS)\n",
    "\n",
    "        cv2.namedWindow(\"Mediapipe Feed\", cv2.WINDOW_NORMAL)\n",
    "        cv2.resizeWindow(\"Mediapipe Feed\", 1280,720)\n",
    "        cv2.imshow('Mediapipe Feed', image)\n",
    "        if(cv2.waitKey(10) & 0xFF == ord('q')):\n",
    "            break   \n",
    "        # print(mp_holistic)\n",
    "        # break\n",
    "    cap.release()\n",
    "    cv2.destroyAllWindows() "
   ]
  },
  {
   "cell_type": "code",
   "execution_count": 9,
   "metadata": {},
   "outputs": [],
   "source": [
    "cap = cv2.VideoCapture('./Dataset/Alldone/9_Kan_C.mp4')\n",
    "with mp_holistic.Holistic(min_detection_confidence=0.5, min_tracking_confidence=0.5) as holistic:\n",
    "    # Number of frames to average for smoothing\n",
    "    num_frames_to_average = 5\n",
    "    landmark_buffer = []\n",
    "\n",
    "    while cap.isOpened():\n",
    "        ret, frame = cap.read()\n",
    "        if not ret:\n",
    "            break\n",
    "\n",
    "        image = cv2.cvtColor(frame, cv2.COLOR_BGR2RGB)\n",
    "        results = holistic.process(image)\n",
    "        image = cv2.cvtColor(image, cv2.COLOR_RGB2BGR)\n",
    "\n",
    "        # Append current frame's landmarks to the buffer\n",
    "        landmark_buffer.append(results.pose_landmarks)\n",
    "\n",
    "        # Remove oldest landmarks if the buffer exceeds the specified number of frames\n",
    "        if len(landmark_buffer) > num_frames_to_average:\n",
    "            landmark_buffer.pop(0)\n",
    "\n",
    "        # Calculate average landmark positions over the buffer frames\n",
    "        avg_landmarks = None\n",
    "        for landmarks in landmark_buffer:\n",
    "            if avg_landmarks is None:\n",
    "                avg_landmarks = landmarks\n",
    "            else:\n",
    "                for i, landmark in enumerate(avg_landmarks.landmark):\n",
    "                    landmark.x += landmarks.landmark[i].x\n",
    "                    landmark.y += landmarks.landmark[i].y\n",
    "                    landmark.z += landmarks.landmark[i].z\n",
    "\n",
    "        if avg_landmarks is not None:\n",
    "            for landmark in avg_landmarks.landmark:\n",
    "                landmark.x /= len(landmark_buffer)\n",
    "                landmark.y /= len(landmark_buffer)\n",
    "                landmark.z /= len(landmark_buffer)\n",
    "\n",
    "        # Draw landmarks on the image\n",
    "        mp_drawing.draw_landmarks(image, avg_landmarks, mp_holistic.POSE_CONNECTIONS)\n",
    "\n",
    "        cv2.namedWindow(\"Mediapipe Feed\", cv2.WINDOW_NORMAL)\n",
    "        cv2.resizeWindow(\"Mediapipe Feed\", 1280, 720)\n",
    "        cv2.imshow('Mediapipe Feed', image)\n",
    "        if cv2.waitKey(10) & 0xFF == ord('q'):\n",
    "            break\n",
    "\n",
    "    cap.release()\n",
    "    cv2.destroyAllWindows()\n"
   ]
  },
  {
   "attachments": {},
   "cell_type": "markdown",
   "metadata": {},
   "source": [
    "## Legs detection"
   ]
  },
  {
   "cell_type": "code",
   "execution_count": 9,
   "metadata": {},
   "outputs": [
    {
     "ename": "KeyboardInterrupt",
     "evalue": "",
     "output_type": "error",
     "traceback": [
      "\u001b[1;31m---------------------------------------------------------------------------\u001b[0m",
      "\u001b[1;31mKeyboardInterrupt\u001b[0m                         Traceback (most recent call last)",
      "Cell \u001b[1;32mIn[9], line 25\u001b[0m\n\u001b[0;32m     22\u001b[0m gray \u001b[39m=\u001b[39m cv2\u001b[39m.\u001b[39mcvtColor(frame, cv2\u001b[39m.\u001b[39mCOLOR_BGR2GRAY)\n\u001b[0;32m     24\u001b[0m \u001b[39m# Perform lower body detection\u001b[39;00m\n\u001b[1;32m---> 25\u001b[0m legs \u001b[39m=\u001b[39m lower_body_cascade\u001b[39m.\u001b[39;49mdetectMultiScale(gray, scaleFactor\u001b[39m=\u001b[39;49m\u001b[39m1.1\u001b[39;49m, minNeighbors\u001b[39m=\u001b[39;49m\u001b[39m5\u001b[39;49m, minSize\u001b[39m=\u001b[39;49m(\u001b[39m30\u001b[39;49m, \u001b[39m30\u001b[39;49m))\n\u001b[0;32m     27\u001b[0m \u001b[39m# Draw rectangles around the detected legs\u001b[39;00m\n\u001b[0;32m     28\u001b[0m \u001b[39mfor\u001b[39;00m (x, y, w, h) \u001b[39min\u001b[39;00m legs:\n",
      "\u001b[1;31mKeyboardInterrupt\u001b[0m: "
     ]
    },
    {
     "ename": "",
     "evalue": "",
     "output_type": "error",
     "traceback": [
      "\u001b[1;31mThe Kernel crashed while executing code in the the current cell or a previous cell. Please review the code in the cell(s) to identify a possible cause of the failure. Click <a href='https://aka.ms/vscodeJupyterKernelCrash'>here</a> for more info. View Jupyter <a href='command:jupyter.viewOutput'>log</a> for further details."
     ]
    }
   ],
   "source": [
    "import cv2\n",
    "\n",
    "# Load the pre-trained Haar cascade for lower body detection\n",
    "lower_body_cascade = cv2.CascadeClassifier('haarcascade_lowerbody.xml')\n",
    "\n",
    "# Check if the cascade file was loaded successfully\n",
    "if lower_body_cascade.empty():\n",
    "    print(\"Error loading cascade file.\")\n",
    "    exit(1)\n",
    "\n",
    "# Open the video capture\n",
    "cap = cv2.VideoCapture('./Dataset/Alldone/9_Kan_C.mp4')  # Use 0 for the default camera, or specify the camera index\n",
    "\n",
    "while True:\n",
    "    # Read a frame from the camera\n",
    "    ret, frame = cap.read()\n",
    "\n",
    "    if not ret:\n",
    "        break\n",
    "\n",
    "    # Convert the frame to grayscale for cascade detection\n",
    "    gray = cv2.cvtColor(frame, cv2.COLOR_BGR2GRAY)\n",
    "\n",
    "    # Perform lower body detection\n",
    "    legs = lower_body_cascade.detectMultiScale(gray, scaleFactor=1.1, minNeighbors=5, minSize=(30, 30))\n",
    "\n",
    "    # Draw rectangles around the detected legs\n",
    "    for (x, y, w, h) in legs:\n",
    "        cv2.rectangle(frame, (x, y), (x + w, y + h), (0, 255, 0), 2)\n",
    "\n",
    "    # Display the frame with detected legs\n",
    "    cv2.imshow('Legs Detection', frame)\n",
    "\n",
    "    # Exit if 'q' is pressed\n",
    "    if cv2.waitKey(1) & 0xFF == ord('q'):\n",
    "        break\n",
    "\n",
    "# Release the video capture and close the windows\n",
    "cap.release()\n",
    "cv2.destroyAllWindows()\n"
   ]
  },
  {
   "attachments": {},
   "cell_type": "markdown",
   "metadata": {},
   "source": [
    "## Line Detection"
   ]
  },
  {
   "cell_type": "code",
   "execution_count": 10,
   "metadata": {},
   "outputs": [],
   "source": [
    "image = cv2.imread('./Dataset/Alldone/Sample_Pic_Batsman.png')\n",
    "gray = cv2.cvtColor(image,cv2.COLOR_BGR2GRAY)\n",
    "canimg = cv2.Canny(gray,50,200)\n",
    "\n",
    "lines = cv2.HoughLines(canimg,1,np.pi/180, 60, np.array([]))\n",
    "\n",
    "for line in lines:\n",
    "    rho, theta = line[0]\n",
    "    a = np.cos(theta)\n",
    "    b = np.sin(theta)\n",
    "\n",
    "    x0 = a*rho\n",
    "    y0 = b*rho\n",
    "\n",
    "    x1 = int(x0 + 1000*(-b))\n",
    "    y1 = int(y0 + 1000*(a))\n",
    "    x2 = int(x0 - 1000*(-b))\n",
    "    y2 = int(y0 - 1000*(1))\n",
    "    \n",
    "    cv2.line(image,(x1,y1),(x2,y2),(0,0,255),2)\n",
    "\n",
    "cv2.imshow(\"Lines Detected\", image)\n",
    "cv2.imshow(\"Canny Detection\", canimg)\n",
    "\n",
    "cv2.waitKey(0)\n",
    "cv2.destroyAllWindows()"
   ]
  },
  {
   "attachments": {},
   "cell_type": "markdown",
   "metadata": {},
   "source": [
    "## Find Focal Length"
   ]
  },
  {
   "cell_type": "code",
   "execution_count": null,
   "metadata": {},
   "outputs": [],
   "source": []
  },
  {
   "cell_type": "code",
   "execution_count": null,
   "metadata": {},
   "outputs": [],
   "source": []
  },
  {
   "cell_type": "code",
   "execution_count": null,
   "metadata": {},
   "outputs": [],
   "source": []
  }
 ],
 "metadata": {
  "kernelspec": {
   "display_name": "venv",
   "language": "python",
   "name": "python3"
  },
  "language_info": {
   "codemirror_mode": {
    "name": "ipython",
    "version": 3
   },
   "file_extension": ".py",
   "mimetype": "text/x-python",
   "name": "python",
   "nbconvert_exporter": "python",
   "pygments_lexer": "ipython3",
   "version": "3.10.2"
  },
  "orig_nbformat": 4
 },
 "nbformat": 4,
 "nbformat_minor": 2
}
